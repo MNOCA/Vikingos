{
 "cells": [
  {
   "cell_type": "code",
   "execution_count": 1,
   "metadata": {},
   "outputs": [
    {
     "name": "stdout",
     "output_type": "stream",
     "text": [
      "round: 0 // Viking army: 4 warriors and Saxon army: 4 warriors\n",
      "Vikings and Saxons are still in the thick of battle.\n",
      "round: 1 // Viking army: 4 warriors and Saxon army: 4 warriors\n",
      "Vikings and Saxons are still in the thick of battle.\n",
      "round: 2 // Viking army: 4 warriors and Saxon army: 4 warriors\n",
      "Vikings and Saxons are still in the thick of battle.\n",
      "round: 3 // Viking army: 4 warriors and Saxon army: 4 warriors\n",
      "Vikings and Saxons are still in the thick of battle.\n",
      "round: 4 // Viking army: 4 warriors and Saxon army: 4 warriors\n",
      "Vikings and Saxons are still in the thick of battle.\n",
      "round: 5 // Viking army: 3 warriors and Saxon army: 4 warriors\n",
      "Vikings and Saxons are still in the thick of battle.\n",
      "round: 6 // Viking army: 2 warriors and Saxon army: 4 warriors\n",
      "Vikings and Saxons are still in the thick of battle.\n",
      "round: 7 // Viking army: 2 warriors and Saxon army: 4 warriors\n",
      "Vikings and Saxons are still in the thick of battle.\n",
      "round: 8 // Viking army: 1 warriors and Saxon army: 3 warriors\n",
      "Vikings and Saxons are still in the thick of battle.\n",
      "round: 9 // Viking army: 0 warriors and Saxon army: 2 warriors\n",
      "Saxons have fought for their lives and survive another day...\n"
     ]
    }
   ],
   "source": [
    "\n",
    "from vikingsClasses import Soldier, Viking, Saxon, War\n",
    "import random\n",
    "\n",
    "\n",
    "soldier_names = [\"albert\",\"andres\",\"archie\",\"dani\", \"david\",\"gerard\",\"german\",\"graham\",\"imanol\",\"laura\"]\n",
    "great_war = War()\n",
    "\n",
    "#Create 5 Vikings\n",
    "for i in range(0,5):\n",
    "    if i:\n",
    "        great_war.addViking(Viking(soldier_names[random.randint(0,9)],100,random.randint(0,100)))\n",
    "\n",
    "#Create 5 Saxons\n",
    "for i in range(0,5):\n",
    "    if i:\n",
    "        great_war.addSaxon(Saxon(100,random.randint(0,100)))\n",
    "    \n",
    "round = 0\n",
    "while great_war.showStatus() == \"Vikings and Saxons are still in the thick of battle.\":\n",
    "    great_war.vikingAttack()\n",
    "    great_war.saxonAttack()\n",
    "    print(f\"round: {round} // Viking army: {len(great_war.vikingArmy)} warriors\",f\"and Saxon army: {len(great_war.saxonArmy)} warriors\")\n",
    "    print(great_war.showStatus())\n",
    "    round += 1"
   ]
  },
  {
   "cell_type": "code",
   "execution_count": null,
   "metadata": {},
   "outputs": [],
   "source": []
  }
 ],
 "metadata": {
  "kernelspec": {
   "display_name": "base",
   "language": "python",
   "name": "python3"
  },
  "language_info": {
   "codemirror_mode": {
    "name": "ipython",
    "version": 3
   },
   "file_extension": ".py",
   "mimetype": "text/x-python",
   "name": "python",
   "nbconvert_exporter": "python",
   "pygments_lexer": "ipython3",
   "version": "3.12.4"
  }
 },
 "nbformat": 4,
 "nbformat_minor": 2
}
