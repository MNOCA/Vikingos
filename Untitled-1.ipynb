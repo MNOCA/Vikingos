{
 "cells": [
  {
   "cell_type": "code",
   "execution_count": 15,
   "metadata": {},
   "outputs": [
    {
     "name": "stdout",
     "output_type": "stream",
     "text": [
      "round: 0 // Viking army: 4 warriors and Saxon army: 4 warriors\n",
      "Vikings and Saxons are still in the thick of battle.\n",
      "round: 1 // Viking army: 4 warriors and Saxon army: 4 warriors\n",
      "Vikings and Saxons are still in the thick of battle.\n",
      "round: 2 // Viking army: 4 warriors and Saxon army: 4 warriors\n",
      "Vikings and Saxons are still in the thick of battle.\n",
      "round: 3 // Viking army: 3 warriors and Saxon army: 4 warriors\n",
      "Vikings and Saxons are still in the thick of battle.\n",
      "round: 4 // Viking army: 3 warriors and Saxon army: 4 warriors\n",
      "Vikings and Saxons are still in the thick of battle.\n",
      "round: 5 // Viking army: 3 warriors and Saxon army: 3 warriors\n",
      "Vikings and Saxons are still in the thick of battle.\n",
      "round: 6 // Viking army: 3 warriors and Saxon army: 3 warriors\n",
      "Vikings and Saxons are still in the thick of battle.\n",
      "round: 7 // Viking army: 3 warriors and Saxon army: 2 warriors\n",
      "Vikings and Saxons are still in the thick of battle.\n",
      "round: 8 // Viking army: 3 warriors and Saxon army: 1 warriors\n",
      "Vikings and Saxons are still in the thick of battle.\n",
      "round: 9 // Viking army: 3 warriors and Saxon army: 0 warriors\n",
      "Vikings have won the war of the century!\n"
     ]
    }
   ],
   "source": [
    "from vikingsClasses import Soldier, Viking, Saxon, War\n",
    "import random\n",
    "\n",
    "\n",
    "soldier_names = [\"albert\",\"andres\",\"archie\",\"dani\", \"david\",\"gerard\",\"german\",\"graham\",\"imanol\",\"laura\"]\n",
    "mywar = War()\n",
    "\n",
    "#Create 5 Vikings\n",
    "for i in range(0,5):\n",
    "    if i:\n",
    "        mywar.addViking(Viking(soldier_names[random.randint(0,9)],100,random.randint(0,100)))\n",
    "\n",
    "#Create 5 Saxons\n",
    "for i in range(0,5):\n",
    "    if i:\n",
    "        mywar.addSaxon(Saxon(100,random.randint(0,100)))\n",
    "    \n",
    "round = 0\n",
    "while mywar.showStatus() == \"Vikings and Saxons are still in the thick of battle.\":\n",
    "    mywar.vikingAttack()\n",
    "    if mywar.saxonArmy != []:\n",
    "        mywar.saxonAttack()\n",
    "    print(f\"round: {round} // Viking army: {len(mywar.vikingArmy)} warriors\",f\"and Saxon army: {len(mywar.saxonArmy)} warriors\")\n",
    "    print(mywar.showStatus())\n",
    "    round += 1"
   ]
  },
  {
   "cell_type": "code",
   "execution_count": null,
   "metadata": {},
   "outputs": [],
   "source": []
  }
 ],
 "metadata": {
  "kernelspec": {
   "display_name": "Python 3",
   "language": "python",
   "name": "python3"
  },
  "language_info": {
   "codemirror_mode": {
    "name": "ipython",
    "version": 3
   },
   "file_extension": ".py",
   "mimetype": "text/x-python",
   "name": "python",
   "nbconvert_exporter": "python",
   "pygments_lexer": "ipython3",
   "version": "3.11.3"
  }
 },
 "nbformat": 4,
 "nbformat_minor": 2
}
